{
 "cells": [
  {
   "cell_type": "code",
   "execution_count": 1,
   "metadata": {
    "collapsed": false
   },
   "outputs": [
    {
     "name": "stdout",
     "output_type": "stream",
     "text": [
      "3\n"
     ]
    }
   ],
   "source": [
    "import numpy as np\n",
    "%matplotlib inline\n",
    "import matplotlib.pyplot as plt\n",
    "import matplotlib\n",
    "matplotlib.style.use('ggplot')\n",
    "import pandas as pd\n",
    "import multiprocessing\n",
    "from joblib import Parallel, delayed\n",
    "num_cores = multiprocessing.cpu_count()\n",
    "if num_cores == 32:\n",
    "    num_cores = 16\n",
    "elif num_cores == 8:\n",
    "    num_cores = 3\n",
    "elif num_cores == 4:\n",
    "    num_cores = 2\n",
    "print num_cores\n",
    "\n",
    "import seaborn as sns\n",
    "sns.set(style=\"whitegrid\", palette=\"pastel\", color_codes=True)\n",
    "\n",
    "class sizeme():\n",
    "    \"\"\" Class to change html fontsize of object's representation\"\"\"\n",
    "    def __init__(self,ob, size=50, height=120):\n",
    "        self.ob = ob\n",
    "        self.size = size\n",
    "        self.height = height\n",
    "    def _repr_html_(self):\n",
    "        repl_tuple = (self.size, self.height, self.ob._repr_html_())\n",
    "        return u'<span style=\"font-size:{0}%; line-height:{1}%\">{2}</span>'.format(*repl_tuple)\n",
    "\n",
    "pd.options.display.max_columns = 9999\n",
    "pd.set_option('display.width', 9999)"
   ]
  },
  {
   "cell_type": "code",
   "execution_count": 2,
   "metadata": {
    "collapsed": false
   },
   "outputs": [
    {
     "name": "stderr",
     "output_type": "stream",
     "text": [
      "diffimTests.py:265: VisibleDeprecationWarning: using a non-integer number instead of an integer will result in an error in the future\n",
      "  (offset2[0]-starSize+1):(offset2[0]+starSize)] += tmp1\n",
      "diffimTests.py:290: VisibleDeprecationWarning: using a non-integer number instead of an integer will result in an error in the future\n",
      "  (offset2[0]-starSize+1):(offset2[0]+starSize)] += tmp\n"
     ]
    }
   ],
   "source": [
    "import diffimTests as dit\n",
    "reload(dit)\n",
    "\n",
    "sky = 300.\n",
    "n_sources = 1000\n",
    "n_varSources = 50\n",
    "varSourceFlux = 750.\n",
    "scintillation = 0.05\n",
    "\n",
    "global_psf1 = [1.6,1.6]   # old parameters\n",
    "global_psf2 = [1.8,2.2]\n",
    "\n",
    "testObj = dit.DiffimTest(imSize=(512,512), sky=sky, psf1=global_psf1, psf2=global_psf2,\n",
    "                         offset=[0,0], psf_yvary_factor=0., sourceFluxDistrib='exponential',\n",
    "                         varFlux2=np.repeat(varSourceFlux, n_varSources), variablesNearCenter=False,\n",
    "                         theta1=0., theta2=-45., im2background=0., n_sources=n_sources, \n",
    "                         sourceFluxRange=(400,100000), scintillation=scintillation,\n",
    "                         seed=66, psfSize=21, avoidBorder=True)"
   ]
  },
  {
   "cell_type": "code",
   "execution_count": 3,
   "metadata": {
    "collapsed": false
   },
   "outputs": [
    {
     "data": {
      "text/plain": [
       "Box2I(Point2I(0, 0), Extent2I(512, 512))"
      ]
     },
     "execution_count": 3,
     "metadata": {},
     "output_type": "execute_result"
    }
   ],
   "source": [
    "exposure = testObj.im1.asAfwExposure()\n",
    "exposure.getBBox()"
   ]
  },
  {
   "cell_type": "code",
   "execution_count": 6,
   "metadata": {
    "collapsed": false
   },
   "outputs": [],
   "source": [
    "import lsst.ip.diffim as ipDiffim\n",
    "#reload(ipDiffim)\n",
    "config = ipDiffim.ImageGridderConfig()"
   ]
  },
  {
   "cell_type": "code",
   "execution_count": 15,
   "metadata": {
    "collapsed": false
   },
   "outputs": [],
   "source": [
    "gridSizeX = config.gridSizeX\n",
    "gridSizeY = config.gridSizeY\n",
    "gridStepX = config.gridStepX\n",
    "gridStepY = config.gridStepY\n",
    "borderSizeX = config.borderSizeX\n",
    "borderSizeY = config.borderSizeY\n",
    "rejiggerGridOption = config.rejiggerGridOption\n",
    "scaleByFwhm = config.scaleByFwhm\n",
    "\n",
    "if scaleByFwhm:\n",
    "    psfFwhm = exposure.getPsf().computeShape().getDeterminantRadius() * 2. * np.sqrt(2. * np.log(2.))\n",
    "    def rescaleValue(val):\n",
    "        return np.rint(val * psfFwhm).astype(int)\n",
    "    gridSizeX = rescaleValue(gridSizeX)\n",
    "    gridSizeY = rescaleValue(gridSizeY)\n",
    "    gridStepX = rescaleValue(gridStepX)\n",
    "    gridStepY = rescaleValue(gridStepY)\n",
    "    borderSizeX = rescaleValue(borderSizeX)\n",
    "    borderSizeY = rescaleValue(borderSizeY)"
   ]
  },
  {
   "cell_type": "code",
   "execution_count": 37,
   "metadata": {
    "collapsed": false
   },
   "outputs": [
    {
     "name": "stdout",
     "output_type": "stream",
     "text": [
      "13 38 19\n",
      "Box2I((0, 0), (37, 37))\n",
      "Box2I((-19, -19), (56, 56))\n"
     ]
    }
   ],
   "source": [
    "bbox = exposure.getBBox()\n",
    "\n",
    "nGridX = bbox.getWidth() // gridStepX\n",
    "print nGridX, gridStepX, borderSizeX\n",
    "\n",
    "import lsst.afw.geom as afwGeom\n",
    "bbox0 = afwGeom.Box2I(afwGeom.Point2I(bbox.getBegin()), afwGeom.Extent2I(gridSizeX, gridSizeY))\n",
    "bbox1 = afwGeom.Box2I(bbox0)\n",
    "bbox1.grow(afwGeom.Extent2I(borderSizeX, borderSizeY))\n",
    "print bbox0  # first \"main\" box\n",
    "print bbox1  # first expanded box"
   ]
  },
  {
   "cell_type": "code",
   "execution_count": 41,
   "metadata": {
    "collapsed": false
   },
   "outputs": [
    {
     "name": "stdout",
     "output_type": "stream",
     "text": [
      "(Box2I(Point2I(0, 0), Extent2I(38, 38)), Box2I(Point2I(0, 0), Extent2I(57, 57)))\n"
     ]
    }
   ],
   "source": [
    "def offsetAndClipBoxes(bbox0, bbox1, xoff, yoff, bbox):\n",
    "    bb0 = afwGeom.Box2I(bbox0)\n",
    "    bb0.shift(afwGeom.Extent2I(xoff, yoff))\n",
    "    bb0.clip(bbox)\n",
    "    bb1 = afwGeom.Box2I(bbox1)\n",
    "    bb1.shift(afwGeom.Extent2I(xoff, yoff))\n",
    "    bb1.clip(bbox)\n",
    "    return bb0, bb1\n",
    "    \n",
    "print offsetAndClipBoxes(bbox0, bbox1, 0, 0, bbox)"
   ]
  },
  {
   "cell_type": "code",
   "execution_count": 43,
   "metadata": {
    "collapsed": false
   },
   "outputs": [
    {
     "name": "stdout",
     "output_type": "stream",
     "text": [
      "Box2I((38, 38), (75, 75)) Box2I((19, 19), (94, 94))\n",
      "Box2I((76, 76), (113, 113)) Box2I((57, 57), (132, 132))\n"
     ]
    }
   ],
   "source": [
    "bb0, bb1 = offsetAndClipBoxes(bbox0, bbox1, gridStepX, gridStepY, bbox)\n",
    "print bb0, bb1\n",
    "bb0, bb1 = offsetAndClipBoxes(bb0, bb1, gridStepX, gridStepY, bbox)\n",
    "print bb0, bb1"
   ]
  },
  {
   "cell_type": "code",
   "execution_count": null,
   "metadata": {
    "collapsed": true
   },
   "outputs": [],
   "source": []
  }
 ],
 "metadata": {
  "kernelspec": {
   "display_name": "Python 2",
   "language": "python",
   "name": "python2"
  },
  "language_info": {
   "codemirror_mode": {
    "name": "ipython",
    "version": 2
   },
   "file_extension": ".py",
   "mimetype": "text/x-python",
   "name": "python",
   "nbconvert_exporter": "python",
   "pygments_lexer": "ipython2",
   "version": "2.7.12"
  }
 },
 "nbformat": 4,
 "nbformat_minor": 0
}
