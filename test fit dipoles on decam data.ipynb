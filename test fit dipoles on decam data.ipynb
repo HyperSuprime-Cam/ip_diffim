{
 "cells": [
  {
   "cell_type": "code",
   "execution_count": 1,
   "metadata": {
    "collapsed": false
   },
   "outputs": [
    {
     "name": "stdout",
     "output_type": "stream",
     "text": [
      "Populating the interactive namespace from numpy and matplotlib\n"
     ]
    }
   ],
   "source": [
    "%pylab inline\n",
    "\n",
    "import numpy as np\n",
    "np.random.seed(666)\n",
    "\n",
    "import matplotlib\n",
    "matplotlib.style.use('ggplot')\n",
    "import matplotlib.pyplot as plt"
   ]
  },
  {
   "cell_type": "code",
   "execution_count": 2,
   "metadata": {
    "collapsed": false
   },
   "outputs": [
    {
     "name": "stdout",
     "output_type": "stream",
     "text": [
      "/Users/dreiss/GIT_REPOS/ip_diffim/tests/testDipoleFitter.py\n",
      "26 Box2I((603, 195), (628, 221)) 438 2\n",
      "   FOOTPRINT CENTER: 209 613 44.5836105347\n",
      "   FOOTPRINT CENTER: 205 617 -38.0424880981\n",
      "29 Box2I((1077, 263), (1113, 291)) 616 3\n",
      "   FOOTPRINT CENTER: 276 1092 25.1447162628\n",
      "   FOOTPRINT CENTER: 283 1105 7.36927890778\n",
      "   FOOTPRINT CENTER: 271 1097 -14.904384613\n"
     ]
    },
    {
     "name": "stderr",
     "output_type": "stream",
     "text": [
      "/Users/dreiss/lsstsw/miniconda/lib/python2.7/site-packages/lmfit-0.9.2-py2.7.egg/lmfit/model.py:459: UserWarning: The keyword argument footprint does notmatch any arguments of the model function.It will be ignored.\n",
      "/Users/dreiss/lsstsw/miniconda/lib/python2.7/site-packages/lmfit-0.9.2-py2.7.egg/lmfit/model.py:459: UserWarning: The keyword argument rel_weight does notmatch any arguments of the model function.It will be ignored.\n",
      "/Users/dreiss/lsstsw/miniconda/lib/python2.7/site-packages/lmfit-0.9.2-py2.7.egg/lmfit/model.py:459: UserWarning: The keyword argument psf does notmatch any arguments of the model function.It will be ignored.\n"
     ]
    },
    {
     "name": "stdout",
     "output_type": "stream",
     "text": [
      "30 Box2I((364, 288), (378, 301)) 119 2\n",
      "   FOOTPRINT CENTER: 254 1318 -6.08423614502\n",
      "   FOOTPRINT CENTER: 294 371 -6.26749229431\n"
     ]
    },
    {
     "ename": "LengthError",
     "evalue": "\n  File \"src/image/Image.cc\", line 92, in static _view_t lsst::afw::image::ImageBase<float>::_makeSubView(const geom::Extent2I &, const geom::Extent2I &, const _view_t &) [PixelT = float]\n    Box2I(Point2I(-1304,-240),Extent2I(0,0)) doesn't fit in image 29x29 {0}\nlsst::pex::exceptions::LengthError: 'Box2I(Point2I(-1304,-240),Extent2I(0,0)) doesn't fit in image 29x29'\n",
     "output_type": "error",
     "traceback": [
      "\u001b[0;31m---------------------------------------------------------------------------\u001b[0m",
      "\u001b[0;31mLengthError\u001b[0m                               Traceback (most recent call last)",
      "\u001b[0;32m/Users/dreiss/GIT_REPOS/ip_diffim/examples/runDipoleFitterOnThreeImages.py\u001b[0m in \u001b[0;36m<module>\u001b[0;34m()\u001b[0m\n\u001b[1;32m     74\u001b[0m     result = dft.DipoleFitAlgorithm.fitDipole_new(\n\u001b[1;32m     75\u001b[0m         \u001b[0mdiffim\u001b[0m\u001b[0;34m,\u001b[0m \u001b[0ms\u001b[0m\u001b[0;34m,\u001b[0m \u001b[0mposImage\u001b[0m\u001b[0;34m,\u001b[0m \u001b[0mnegImage\u001b[0m\u001b[0;34m,\u001b[0m \u001b[0mrel_weight\u001b[0m\u001b[0;34m=\u001b[0m\u001b[0;36m1.\u001b[0m\u001b[0;34m,\u001b[0m \u001b[0mseparateNegParams\u001b[0m\u001b[0;34m=\u001b[0m\u001b[0mFalse\u001b[0m\u001b[0;34m,\u001b[0m\u001b[0;34m\u001b[0m\u001b[0m\n\u001b[0;32m---> 76\u001b[0;31m         verbose=False, display=False)\n\u001b[0m\u001b[1;32m     77\u001b[0m \u001b[0;34m\u001b[0m\u001b[0m\n\u001b[1;32m     78\u001b[0m \u001b[0;34m\u001b[0m\u001b[0m\n",
      "\u001b[0;32m/Users/dreiss/GIT_REPOS/ip_diffim/python/lsst/ip/diffim/dipoleFitTask.pyc\u001b[0m in \u001b[0;36mfitDipole_new\u001b[0;34m(exposure, source, posImage, negImage, tol, rel_weight, fitBgGradient, centroidRangeInSigma, separateNegParams, bgGradientOrder, verbose, display, return_fitObj)\u001b[0m\n\u001b[1;32m    559\u001b[0m             \u001b[0mtol\u001b[0m\u001b[0;34m=\u001b[0m\u001b[0mtol\u001b[0m\u001b[0;34m,\u001b[0m \u001b[0mrel_weight\u001b[0m\u001b[0;34m=\u001b[0m\u001b[0mrel_weight\u001b[0m\u001b[0;34m,\u001b[0m \u001b[0mfitBgGradient\u001b[0m\u001b[0;34m=\u001b[0m\u001b[0mfitBgGradient\u001b[0m\u001b[0;34m,\u001b[0m\u001b[0;34m\u001b[0m\u001b[0m\n\u001b[1;32m    560\u001b[0m             \u001b[0mcentroidRangeInSigma\u001b[0m\u001b[0;34m=\u001b[0m\u001b[0mcentroidRangeInSigma\u001b[0m\u001b[0;34m,\u001b[0m \u001b[0mseparateNegParams\u001b[0m\u001b[0;34m=\u001b[0m\u001b[0mseparateNegParams\u001b[0m\u001b[0;34m,\u001b[0m\u001b[0;34m\u001b[0m\u001b[0m\n\u001b[0;32m--> 561\u001b[0;31m             bgGradientOrder=bgGradientOrder, verbose=verbose, display=display)\n\u001b[0m\u001b[1;32m    562\u001b[0m \u001b[0;34m\u001b[0m\u001b[0m\n\u001b[1;32m    563\u001b[0m         \u001b[0;31m## In (rare) extreme cases of very faint dipoles on top of a very steep background\u001b[0m\u001b[0;34m\u001b[0m\u001b[0;34m\u001b[0m\u001b[0m\n",
      "\u001b[0;32m/Users/dreiss/GIT_REPOS/ip_diffim/python/lsst/ip/diffim/dipoleFitTask.pyc\u001b[0m in \u001b[0;36mfitDipole\u001b[0;34m(diffim, source, posImage, negImage, tol, rel_weight, fitBgGradient, bgGradientOrder, centroidRangeInSigma, separateNegParams, verbose, display)\u001b[0m\n\u001b[1;32m    513\u001b[0m                           \u001b[0mpsf\u001b[0m\u001b[0;34m=\u001b[0m\u001b[0mdiffim\u001b[0m\u001b[0;34m.\u001b[0m\u001b[0mgetPsf\u001b[0m\u001b[0;34m(\u001b[0m\u001b[0;34m)\u001b[0m\u001b[0;34m,\u001b[0m   \u001b[0;31m## hereon: additional kwargs get passed to genDipoleModel()\u001b[0m\u001b[0;34m\u001b[0m\u001b[0m\n\u001b[1;32m    514\u001b[0m                           \u001b[0mrel_weight\u001b[0m\u001b[0;34m=\u001b[0m\u001b[0mrel_weight\u001b[0m\u001b[0;34m,\u001b[0m\u001b[0;34m\u001b[0m\u001b[0m\n\u001b[0;32m--> 515\u001b[0;31m                           footprint=fp)\n\u001b[0m\u001b[1;32m    516\u001b[0m \u001b[0;34m\u001b[0m\u001b[0m\n\u001b[1;32m    517\u001b[0m         \u001b[0;31m## Probably never wanted - also this takes a long time (longer than the fit!)\u001b[0m\u001b[0;34m\u001b[0m\u001b[0;34m\u001b[0m\u001b[0m\n",
      "\u001b[0;32m/Users/dreiss/lsstsw/miniconda/lib/python2.7/site-packages/lmfit-0.9.2-py2.7.egg/lmfit/model.py\u001b[0m in \u001b[0;36mfit\u001b[0;34m(self, data, params, weights, method, iter_cb, scale_covar, verbose, fit_kws, **kwargs)\u001b[0m\n\u001b[1;32m    504\u001b[0m                              \u001b[0mscale_covar\u001b[0m\u001b[0;34m=\u001b[0m\u001b[0mscale_covar\u001b[0m\u001b[0;34m,\u001b[0m \u001b[0mfcn_kws\u001b[0m\u001b[0;34m=\u001b[0m\u001b[0mkwargs\u001b[0m\u001b[0;34m,\u001b[0m\u001b[0;34m\u001b[0m\u001b[0m\n\u001b[1;32m    505\u001b[0m                              **fit_kws)\n\u001b[0;32m--> 506\u001b[0;31m         \u001b[0moutput\u001b[0m\u001b[0;34m.\u001b[0m\u001b[0mfit\u001b[0m\u001b[0;34m(\u001b[0m\u001b[0mdata\u001b[0m\u001b[0;34m=\u001b[0m\u001b[0mdata\u001b[0m\u001b[0;34m,\u001b[0m \u001b[0mweights\u001b[0m\u001b[0;34m=\u001b[0m\u001b[0mweights\u001b[0m\u001b[0;34m)\u001b[0m\u001b[0;34m\u001b[0m\u001b[0m\n\u001b[0m\u001b[1;32m    507\u001b[0m         \u001b[0moutput\u001b[0m\u001b[0;34m.\u001b[0m\u001b[0mcomponents\u001b[0m \u001b[0;34m=\u001b[0m \u001b[0mself\u001b[0m\u001b[0;34m.\u001b[0m\u001b[0mcomponents\u001b[0m\u001b[0;34m\u001b[0m\u001b[0m\n\u001b[1;32m    508\u001b[0m         \u001b[0;32mreturn\u001b[0m \u001b[0moutput\u001b[0m\u001b[0;34m\u001b[0m\u001b[0m\n",
      "\u001b[0;32m/Users/dreiss/lsstsw/miniconda/lib/python2.7/site-packages/lmfit-0.9.2-py2.7.egg/lmfit/model.py\u001b[0m in \u001b[0;36mfit\u001b[0;34m(self, data, params, weights, method, **kwargs)\u001b[0m\n\u001b[1;32m    708\u001b[0m         \u001b[0mself\u001b[0m\u001b[0;34m.\u001b[0m\u001b[0muserargs\u001b[0m \u001b[0;34m=\u001b[0m \u001b[0;34m(\u001b[0m\u001b[0mself\u001b[0m\u001b[0;34m.\u001b[0m\u001b[0mdata\u001b[0m\u001b[0;34m,\u001b[0m \u001b[0mself\u001b[0m\u001b[0;34m.\u001b[0m\u001b[0mweights\u001b[0m\u001b[0;34m)\u001b[0m\u001b[0;34m\u001b[0m\u001b[0m\n\u001b[1;32m    709\u001b[0m         \u001b[0mself\u001b[0m\u001b[0;34m.\u001b[0m\u001b[0muserkws\u001b[0m\u001b[0;34m.\u001b[0m\u001b[0mupdate\u001b[0m\u001b[0;34m(\u001b[0m\u001b[0mkwargs\u001b[0m\u001b[0;34m)\u001b[0m\u001b[0;34m\u001b[0m\u001b[0m\n\u001b[0;32m--> 710\u001b[0;31m         \u001b[0mself\u001b[0m\u001b[0;34m.\u001b[0m\u001b[0minit_fit\u001b[0m    \u001b[0;34m=\u001b[0m \u001b[0mself\u001b[0m\u001b[0;34m.\u001b[0m\u001b[0mmodel\u001b[0m\u001b[0;34m.\u001b[0m\u001b[0meval\u001b[0m\u001b[0;34m(\u001b[0m\u001b[0mparams\u001b[0m\u001b[0;34m=\u001b[0m\u001b[0mself\u001b[0m\u001b[0;34m.\u001b[0m\u001b[0mparams\u001b[0m\u001b[0;34m,\u001b[0m \u001b[0;34m**\u001b[0m\u001b[0mself\u001b[0m\u001b[0;34m.\u001b[0m\u001b[0muserkws\u001b[0m\u001b[0;34m)\u001b[0m\u001b[0;34m\u001b[0m\u001b[0m\n\u001b[0m\u001b[1;32m    711\u001b[0m \u001b[0;34m\u001b[0m\u001b[0m\n\u001b[1;32m    712\u001b[0m         \u001b[0m_ret\u001b[0m \u001b[0;34m=\u001b[0m \u001b[0mself\u001b[0m\u001b[0;34m.\u001b[0m\u001b[0mminimize\u001b[0m\u001b[0;34m(\u001b[0m\u001b[0mmethod\u001b[0m\u001b[0;34m=\u001b[0m\u001b[0mself\u001b[0m\u001b[0;34m.\u001b[0m\u001b[0mmethod\u001b[0m\u001b[0;34m)\u001b[0m\u001b[0;34m\u001b[0m\u001b[0m\n",
      "\u001b[0;32m/Users/dreiss/lsstsw/miniconda/lib/python2.7/site-packages/lmfit-0.9.2-py2.7.egg/lmfit/model.py\u001b[0m in \u001b[0;36meval\u001b[0;34m(self, params, **kwargs)\u001b[0m\n\u001b[1;32m    370\u001b[0m     \u001b[0;32mdef\u001b[0m \u001b[0meval\u001b[0m\u001b[0;34m(\u001b[0m\u001b[0mself\u001b[0m\u001b[0;34m,\u001b[0m \u001b[0mparams\u001b[0m\u001b[0;34m=\u001b[0m\u001b[0mNone\u001b[0m\u001b[0;34m,\u001b[0m \u001b[0;34m**\u001b[0m\u001b[0mkwargs\u001b[0m\u001b[0;34m)\u001b[0m\u001b[0;34m:\u001b[0m\u001b[0;34m\u001b[0m\u001b[0m\n\u001b[1;32m    371\u001b[0m         \u001b[0;34m\"\"\"evaluate the model with the supplied parameters\"\"\"\u001b[0m\u001b[0;34m\u001b[0m\u001b[0m\n\u001b[0;32m--> 372\u001b[0;31m         \u001b[0mresult\u001b[0m \u001b[0;34m=\u001b[0m \u001b[0mself\u001b[0m\u001b[0;34m.\u001b[0m\u001b[0mfunc\u001b[0m\u001b[0;34m(\u001b[0m\u001b[0;34m**\u001b[0m\u001b[0mself\u001b[0m\u001b[0;34m.\u001b[0m\u001b[0mmake_funcargs\u001b[0m\u001b[0;34m(\u001b[0m\u001b[0mparams\u001b[0m\u001b[0;34m,\u001b[0m \u001b[0mkwargs\u001b[0m\u001b[0;34m)\u001b[0m\u001b[0;34m)\u001b[0m\u001b[0;34m\u001b[0m\u001b[0m\n\u001b[0m\u001b[1;32m    373\u001b[0m         \u001b[0;31m# Handle special case of constant result and one\u001b[0m\u001b[0;34m\u001b[0m\u001b[0;34m\u001b[0m\u001b[0m\n\u001b[1;32m    374\u001b[0m         \u001b[0;31m# independent variable (of any dimension).\u001b[0m\u001b[0;34m\u001b[0m\u001b[0;34m\u001b[0m\u001b[0m\n",
      "\u001b[0;32m/Users/dreiss/GIT_REPOS/ip_diffim/python/lsst/ip/diffim/dipoleFitTask.pyc\u001b[0m in \u001b[0;36mgenDipoleModel\u001b[0;34m(x, flux, xcenPos, ycenPos, xcenNeg, ycenNeg, fluxNeg, b, x1, y1, xy, x2, y2, bNeg, x1Neg, y1Neg, xyNeg, x2Neg, y2Neg, **kwargs)\u001b[0m\n\u001b[1;32m    348\u001b[0m             \u001b[0mfluxNeg\u001b[0m \u001b[0;34m=\u001b[0m \u001b[0mflux\u001b[0m\u001b[0;34m\u001b[0m\u001b[0m\n\u001b[1;32m    349\u001b[0m \u001b[0;34m\u001b[0m\u001b[0m\n\u001b[0;32m--> 350\u001b[0;31m         \u001b[0mposIm\u001b[0m \u001b[0;34m=\u001b[0m \u001b[0mDipoleFitAlgorithm\u001b[0m\u001b[0;34m.\u001b[0m\u001b[0mgenStarModel\u001b[0m\u001b[0;34m(\u001b[0m\u001b[0mpsf\u001b[0m\u001b[0;34m,\u001b[0m \u001b[0mxcenPos\u001b[0m\u001b[0;34m,\u001b[0m \u001b[0mycenPos\u001b[0m\u001b[0;34m,\u001b[0m \u001b[0mflux\u001b[0m\u001b[0;34m,\u001b[0m \u001b[0mfp\u001b[0m\u001b[0;34m)\u001b[0m\u001b[0;34m\u001b[0m\u001b[0m\n\u001b[0m\u001b[1;32m    351\u001b[0m         \u001b[0mnegIm\u001b[0m \u001b[0;34m=\u001b[0m \u001b[0mDipoleFitAlgorithm\u001b[0m\u001b[0;34m.\u001b[0m\u001b[0mgenStarModel\u001b[0m\u001b[0;34m(\u001b[0m\u001b[0mpsf\u001b[0m\u001b[0;34m,\u001b[0m \u001b[0mxcenNeg\u001b[0m\u001b[0;34m,\u001b[0m \u001b[0mycenNeg\u001b[0m\u001b[0;34m,\u001b[0m \u001b[0mfluxNeg\u001b[0m\u001b[0;34m,\u001b[0m \u001b[0mfp\u001b[0m\u001b[0;34m)\u001b[0m\u001b[0;34m\u001b[0m\u001b[0m\n\u001b[1;32m    352\u001b[0m \u001b[0;34m\u001b[0m\u001b[0m\n",
      "\u001b[0;32m/Users/dreiss/GIT_REPOS/ip_diffim/python/lsst/ip/diffim/dipoleFitTask.pyc\u001b[0m in \u001b[0;36mgenStarModel\u001b[0;34m(psf, xcen, ycen, flux, fp)\u001b[0m\n\u001b[1;32m    313\u001b[0m         \u001b[0mpsf_box\u001b[0m \u001b[0;34m=\u001b[0m \u001b[0mpsf_img\u001b[0m\u001b[0;34m.\u001b[0m\u001b[0mgetBBox\u001b[0m\u001b[0;34m(\u001b[0m\u001b[0;34m)\u001b[0m\u001b[0;34m\u001b[0m\u001b[0m\n\u001b[1;32m    314\u001b[0m         \u001b[0mpsf_box\u001b[0m\u001b[0;34m.\u001b[0m\u001b[0mclip\u001b[0m\u001b[0;34m(\u001b[0m\u001b[0mbbox\u001b[0m\u001b[0;34m)\u001b[0m\u001b[0;34m\u001b[0m\u001b[0m\n\u001b[0;32m--> 315\u001b[0;31m         \u001b[0mpsf_img\u001b[0m \u001b[0;34m=\u001b[0m \u001b[0mImageF\u001b[0m\u001b[0;34m(\u001b[0m\u001b[0mpsf_img\u001b[0m\u001b[0;34m,\u001b[0m \u001b[0mpsf_box\u001b[0m\u001b[0;34m,\u001b[0m \u001b[0mPARENT\u001b[0m\u001b[0;34m)\u001b[0m\u001b[0;34m\u001b[0m\u001b[0m\n\u001b[0m\u001b[1;32m    316\u001b[0m \u001b[0;34m\u001b[0m\u001b[0m\n\u001b[1;32m    317\u001b[0m         \u001b[0;31m## Then actually crop the psf image.\u001b[0m\u001b[0;34m\u001b[0m\u001b[0;34m\u001b[0m\u001b[0m\n",
      "\u001b[0;32m/Users/dreiss/lsstsw/stack/DarwinX86/afw/2.2016.10-1-g690005f+1/python/lsst/afw/image/imageLib.pyc\u001b[0m in \u001b[0;36m__init__\u001b[0;34m(self, *args)\u001b[0m\n\u001b[1;32m   3674\u001b[0m         \u001b[0m__init__\u001b[0m\u001b[0;34m(\u001b[0m\u001b[0mlsst\u001b[0m\u001b[0;34m:\u001b[0m\u001b[0;34m:\u001b[0m\u001b[0mafw\u001b[0m\u001b[0;34m:\u001b[0m\u001b[0;34m:\u001b[0m\u001b[0mimage\u001b[0m\u001b[0;34m:\u001b[0m\u001b[0;34m:\u001b[0m\u001b[0mImage\u001b[0m\u001b[0;34m<\u001b[0m\u001b[0;34m(\u001b[0m\u001b[0mfloat\u001b[0m\u001b[0;34m)\u001b[0m\u001b[0;34m>\u001b[0m \u001b[0mself\u001b[0m\u001b[0;34m,\u001b[0m \u001b[0mndarray\u001b[0m\u001b[0;34m:\u001b[0m\u001b[0;34m:\u001b[0m\u001b[0mArray\u001b[0m\u001b[0;34m<\u001b[0m \u001b[0mfloat\u001b[0m\u001b[0;34m,\u001b[0m\u001b[0;36m2\u001b[0m\u001b[0;34m,\u001b[0m\u001b[0;36m1\u001b[0m \u001b[0;34m>\u001b[0m \u001b[0mconst\u001b[0m \u001b[0;34m&\u001b[0m \u001b[0marray\u001b[0m\u001b[0;34m)\u001b[0m \u001b[0;34m-\u001b[0m\u001b[0;34m>\u001b[0m \u001b[0mImageF\u001b[0m\u001b[0;34m\u001b[0m\u001b[0m\n\u001b[1;32m   3675\u001b[0m         \"\"\"\n\u001b[0;32m-> 3676\u001b[0;31m         \u001b[0mthis\u001b[0m \u001b[0;34m=\u001b[0m \u001b[0m_imageLib\u001b[0m\u001b[0;34m.\u001b[0m\u001b[0mnew_ImageF\u001b[0m\u001b[0;34m(\u001b[0m\u001b[0;34m*\u001b[0m\u001b[0margs\u001b[0m\u001b[0;34m)\u001b[0m\u001b[0;34m\u001b[0m\u001b[0m\n\u001b[0m\u001b[1;32m   3677\u001b[0m         \u001b[0;32mtry\u001b[0m\u001b[0;34m:\u001b[0m \u001b[0mself\u001b[0m\u001b[0;34m.\u001b[0m\u001b[0mthis\u001b[0m\u001b[0;34m.\u001b[0m\u001b[0mappend\u001b[0m\u001b[0;34m(\u001b[0m\u001b[0mthis\u001b[0m\u001b[0;34m)\u001b[0m\u001b[0;34m\u001b[0m\u001b[0m\n\u001b[1;32m   3678\u001b[0m         \u001b[0;32mexcept\u001b[0m\u001b[0;34m:\u001b[0m \u001b[0mself\u001b[0m\u001b[0;34m.\u001b[0m\u001b[0mthis\u001b[0m \u001b[0;34m=\u001b[0m \u001b[0mthis\u001b[0m\u001b[0;34m\u001b[0m\u001b[0m\n",
      "\u001b[0;31mLengthError\u001b[0m: \n  File \"src/image/Image.cc\", line 92, in static _view_t lsst::afw::image::ImageBase<float>::_makeSubView(const geom::Extent2I &, const geom::Extent2I &, const _view_t &) [PixelT = float]\n    Box2I(Point2I(-1304,-240),Extent2I(0,0)) doesn't fit in image 29x29 {0}\nlsst::pex::exceptions::LengthError: 'Box2I(Point2I(-1304,-240),Extent2I(0,0)) doesn't fit in image 29x29'\n"
     ]
    }
   ],
   "source": [
    "%run -i examples/runDipoleFitterOnThreeImages.py"
   ]
  },
  {
   "cell_type": "raw",
   "metadata": {},
   "source": [
    "import lsst.afw.geom as afwGeom\n",
    "import lsst.afw.image as afwImage\n",
    "\n",
    "centroid = (248, 1097)\n",
    "boxSize = 15\n",
    "bbox = afwGeom.Box2I(afwGeom.Point2I(centroid[0]-boxSize/2, centroid[1]-boxSize/2), \n",
    "                     afwGeom.Extent2I(boxSize, boxSize))\n",
    "subim = afwImage.ImageF(diffim.getMaskedImage().getImage(), bbox, afwImage.PARENT)\n",
    "dft.DipoleUtils.displayImage(subim)\n",
    "subim = afwImage.ImageF(posImage.getMaskedImage().getImage(), bbox, afwImage.PARENT)\n",
    "dft.DipoleUtils.displayImage(subim)\n",
    "subim = afwImage.ImageF(negImage.getMaskedImage().getImage(), bbox, afwImage.PARENT)\n",
    "dft.DipoleUtils.displayImage(subim)\n",
    "\n",
    "posSubim = afwImage.ImageF(posImage.getMaskedImage().getImage(), bbox, afwImage.PARENT)\n",
    "negSubim = afwImage.ImageF(negImage.getMaskedImage().getImage(), bbox, afwImage.PARENT)\n",
    "subim = posSubim.clone()\n",
    "subim -= negSubim\n",
    "dft.DipoleUtils.displayImage(subim)"
   ]
  },
  {
   "cell_type": "code",
   "execution_count": null,
   "metadata": {
    "collapsed": false
   },
   "outputs": [],
   "source": [
    "i = 115; s = catalog[i]\n",
    "i = 12; s = catalog[i]\n",
    "fp = s.getFootprint()\n",
    "print i, fp.getBBox(), fp.getNpix(), len(fp.getPeaks())\n",
    "for pk in fp.getPeaks():\n",
    "    print '   FOOTPRINT CENTER:', pk.getIy(), pk.getIx(), pk.getPeakValue()\n",
    "    \n",
    "bbox = fp.getBBox()\n",
    "subim = afwImage.ImageF(diffim.getMaskedImage().getImage(), bbox, afwImage.PARENT)\n",
    "dft.DipoleUtils.displayImage(subim)\n",
    "subim = afwImage.ImageF(posImage.getMaskedImage().getImage(), bbox, afwImage.PARENT)\n",
    "dft.DipoleUtils.plt.figure(figsize=(8, 2.5)); dft.DipoleUtils.plt.subplot(1, 3, 1)\n",
    "dft.DipoleUtils.display2dArray(np.log10(subim.getArray()+50.))\n",
    "subim = afwImage.ImageF(negImage.getMaskedImage().getImage(), bbox, afwImage.PARENT)\n",
    "dft.DipoleUtils.plt.figure(figsize=(8, 2.5)); dft.DipoleUtils.plt.subplot(1, 3, 1)\n",
    "dft.DipoleUtils.display2dArray(np.log10(subim.getArray()+50.))\n",
    "\n",
    "subim = afwImage.ImageF(posImage.getMaskedImage().getImage(), bbox, afwImage.PARENT)\n",
    "subArr = subim.getArray()\n",
    "print np.median(subArr), np.max(subArr)\n",
    "psfImg = posImage.getPsf().computeImage()\n",
    "pkToFlux = np.nansum(psfImg.getArray()) / posImage.getPsf().computePeak()\n",
    "print pkToFlux\n",
    "print np.max(subArr) * pkToFlux\n",
    "\n",
    "result = dft.DipoleFitAlgorithm.fitDipole_new(\n",
    "    diffim, s, posImage, negImage, rel_weight=0.5, fitBgGradient=False, separateNegParams=False,\n",
    "    verbose=False, display=True, return_fitObj=True)\n",
    "\n",
    "result"
   ]
  },
  {
   "cell_type": "code",
   "execution_count": null,
   "metadata": {
    "collapsed": false
   },
   "outputs": [],
   "source": [
    "import warnings\n",
    "warnings.filterwarnings('ignore')\n",
    "\n",
    "import lmfit\n",
    "result0 = result[1]\n",
    "print result0.fit_report()"
   ]
  },
  {
   "cell_type": "code",
   "execution_count": null,
   "metadata": {
    "collapsed": false
   },
   "outputs": [],
   "source": [
    "bbox = fp.getBBox()\n",
    "difSubim = afwImage.ImageF(diffim.getMaskedImage().getImage(), bbox, afwImage.PARENT)\n",
    "posSubim = afwImage.ImageF(posImage.getMaskedImage().getImage(), bbox, afwImage.PARENT)\n",
    "negSubim = afwImage.ImageF(negImage.getMaskedImage().getImage(), bbox, afwImage.PARENT)\n",
    "\n",
    "plt.plot(np.log10(posSubim.getArray().flatten()), np.log10(negSubim.getArray().flatten()), 'o')"
   ]
  },
  {
   "cell_type": "markdown",
   "metadata": {},
   "source": [
    "PSFs are identical between images..."
   ]
  },
  {
   "cell_type": "code",
   "execution_count": null,
   "metadata": {
    "collapsed": false
   },
   "outputs": [],
   "source": [
    "dif_p = diffim.getPsf().computeImage()\n",
    "#dft.DipoleUtils.displayImage(dif_p)\n",
    "pos_p = posImage.getPsf().computeImage()\n",
    "#dft.DipoleUtils.displayImage(pos_p)\n",
    "neg_p = negImage.getPsf().computeImage()\n",
    "#dft.DipoleUtils.displayImage(neg_p)\n",
    "\n",
    "tmp = pos_p.clone()\n",
    "tmp -= dif_p\n",
    "dft.DipoleUtils.displayImage(tmp)"
   ]
  },
  {
   "cell_type": "markdown",
   "metadata": {},
   "source": [
    "Here is a weird case - a bright galaxy with a dipole in the core."
   ]
  },
  {
   "cell_type": "code",
   "execution_count": null,
   "metadata": {
    "collapsed": false
   },
   "outputs": [],
   "source": [
    "i = 115; s = catalog[i]\n",
    "#i = 12; s = catalog[i]\n",
    "fp = s.getFootprint()\n",
    "print i, fp.getBBox(), fp.getNpix(), len(fp.getPeaks())\n",
    "for pk in fp.getPeaks():\n",
    "    print '   FOOTPRINT CENTER:', pk.getIy(), pk.getIx(), pk.getPeakValue()\n",
    "    \n",
    "bbox = fp.getBBox()\n",
    "subim = afwImage.ImageF(diffim.getMaskedImage().getImage(), bbox, afwImage.PARENT)\n",
    "dft.DipoleUtils.displayImage(subim)\n",
    "subim = afwImage.ImageF(posImage.getMaskedImage().getImage(), bbox, afwImage.PARENT)\n",
    "dft.DipoleUtils.plt.figure(figsize=(8, 2.5)); dft.DipoleUtils.plt.subplot(1, 3, 1)\n",
    "dft.DipoleUtils.display2dArray(np.log10(subim.getArray()))\n",
    "subim = afwImage.ImageF(negImage.getMaskedImage().getImage(), bbox, afwImage.PARENT)\n",
    "dft.DipoleUtils.plt.figure(figsize=(8, 2.5)); dft.DipoleUtils.plt.subplot(1, 3, 1)\n",
    "dft.DipoleUtils.display2dArray(np.log10(subim.getArray()))\n",
    "\n",
    "subim = afwImage.ImageF(posImage.getMaskedImage().getImage(), bbox, afwImage.PARENT)\n",
    "subArr = subim.getArray()\n",
    "print np.median(subArr), np.max(subArr)\n",
    "psfImg = posImage.getPsf().computeImage()\n",
    "pkToFlux = np.nansum(psfImg.getArray()) / posImage.getPsf().computePeak()\n",
    "print pkToFlux\n",
    "print np.max(subArr) * pkToFlux\n",
    "\n",
    "result = dft.DipoleFitAlgorithm.fitDipole_new(\n",
    "    diffim, s, posImage, negImage, rel_weight=1., fitBgGradient=True, separateNegParams=False,\n",
    "    verbose=False, display=True, return_fitObj=True)\n",
    "\n",
    "result"
   ]
  },
  {
   "cell_type": "code",
   "execution_count": null,
   "metadata": {
    "collapsed": false
   },
   "outputs": [],
   "source": [
    "result0 = result[1]\n",
    "print result0.fit_report()"
   ]
  },
  {
   "cell_type": "code",
   "execution_count": null,
   "metadata": {
    "collapsed": false
   },
   "outputs": [],
   "source": [
    "i = 115; s = catalog[i]\n",
    "i = 67; s = catalog[i]\n",
    "#i = 12; s = catalog[i]\n",
    "fp = s.getFootprint()\n",
    "print i, fp.getBBox(), fp.getNpix(), len(fp.getPeaks())\n",
    "for pk in fp.getPeaks():\n",
    "    print '   FOOTPRINT CENTER:', pk.getIy(), pk.getIx(), pk.getPeakValue()\n",
    "    \n",
    "bbox = fp.getBBox()\n",
    "subim = afwImage.ImageF(diffim.getMaskedImage().getImage(), bbox, afwImage.PARENT)\n",
    "dft.DipoleUtils.displayImage(subim)\n",
    "subim = afwImage.ImageF(posImage.getMaskedImage().getImage(), bbox, afwImage.PARENT)\n",
    "dft.DipoleUtils.plt.figure(figsize=(8, 2.5)); dft.DipoleUtils.plt.subplot(1, 3, 1)\n",
    "dft.DipoleUtils.display2dArray(np.log10(subim.getArray()+20.))\n",
    "subim = afwImage.ImageF(negImage.getMaskedImage().getImage(), bbox, afwImage.PARENT)\n",
    "dft.DipoleUtils.plt.figure(figsize=(8, 2.5)); dft.DipoleUtils.plt.subplot(1, 3, 1)\n",
    "dft.DipoleUtils.display2dArray(np.log10(subim.getArray()))\n",
    "\n",
    "subim = afwImage.ImageF(posImage.getMaskedImage().getImage(), bbox, afwImage.PARENT)\n",
    "subArr = subim.getArray()\n",
    "print np.median(subArr), np.max(subArr)\n",
    "psfImg = posImage.getPsf().computeImage()\n",
    "pkToFlux = np.nansum(psfImg.getArray()) / posImage.getPsf().computePeak()\n",
    "print pkToFlux\n",
    "print np.max(subArr) * pkToFlux\n",
    "\n",
    "result = dft.DipoleFitAlgorithm.fitDipole_new(\n",
    "    diffim, s, posImage, negImage, rel_weight=1., fitBgGradient=True, separateNegParams=False,\n",
    "    verbose=False, display=True, return_fitObj=True)\n",
    "\n",
    "result"
   ]
  },
  {
   "cell_type": "code",
   "execution_count": null,
   "metadata": {
    "collapsed": true
   },
   "outputs": [],
   "source": []
  }
 ],
 "metadata": {
  "kernelspec": {
   "display_name": "Python 2",
   "language": "python",
   "name": "python2"
  },
  "language_info": {
   "codemirror_mode": {
    "name": "ipython",
    "version": 2
   },
   "file_extension": ".py",
   "mimetype": "text/x-python",
   "name": "python",
   "nbconvert_exporter": "python",
   "pygments_lexer": "ipython2",
   "version": "2.7.11"
  }
 },
 "nbformat": 4,
 "nbformat_minor": 0
}
